{
 "cells": [
  {
   "cell_type": "markdown",
   "id": "5e8ef348",
   "metadata": {},
   "source": [
    "# Model 1: Image comparison system using ORB (Oriented FAST and Rotated BRIEF, OpenCV library and the Voyager library)\n",
    "- preprocess_image function reads and converts images to grayscale and extracts ORB keypoints and descriptors. \n",
    "- build_voyager_index_for_folder function processes a folder of images and builds a Voyager index using these descriptors. \n",
    "- find_nearest_neighbor function takes a query image, extracts descriptors, compares them with the indexed descriptors using Euclidean distance, and finds the nearest neighbor. \n",
    "\n",
    "<p>If the distance is below a certain threshold, it prints the best match along with the Euclidean distance and displays the query and matched images. </p>"
   ]
  },
  {
   "cell_type": "code",
   "execution_count": 1,
   "id": "33b956b1",
   "metadata": {},
   "outputs": [],
   "source": [
    "from exact_match_voy import preprocess_image"
   ]
  },
  {
   "cell_type": "code",
   "execution_count": 2,
   "id": "024868ec",
   "metadata": {},
   "outputs": [],
   "source": [
    "from exact_match_voy import build_voyager_index_for_folder"
   ]
  },
  {
   "cell_type": "code",
   "execution_count": 3,
   "id": "eb76b878",
   "metadata": {
    "scrolled": true
   },
   "outputs": [],
   "source": [
    "from exact_match_voy import find_nearest_neighbor"
   ]
  },
  {
   "cell_type": "markdown",
   "id": "8a2de1b0",
   "metadata": {},
   "source": [
    "# Test 1 Using 6 Images\n",
    "\n",
    "<p> Works with 100% accuracy on 6 images. Tested 15 different rotation, inversion, and blots. 5 images were pulled from the s3 AWS bucket mpd-biblio under dev/covers/original/ and 1 image of <i>The Silent Patient</i> with ISBN \"9781250301697\" was taken from the Macmillan Website.</p> "
   ]
  },
  {
   "cell_type": "code",
   "execution_count": 4,
   "id": "b02b017c",
   "metadata": {},
   "outputs": [
    {
     "name": "stdout",
     "output_type": "stream",
     "text": [
      "Comparison 1:\n",
      "  Neighbor: /data/d/final/macmillanCovers-6/9781250301697.jpg\n",
      "  Euclidean Distance: 0.0\n",
      "Comparison 2:\n",
      "  Neighbor: /data/d/final/macmillanCovers-6/9781250756138.jpg\n",
      "  Euclidean Distance: 14545.0771484375\n",
      "Comparison 3:\n",
      "  Neighbor: /data/d/final/macmillanCovers-6/9780230100992.jpg\n",
      "  Euclidean Distance: 13007.119140625\n",
      "Comparison 4:\n",
      "  Neighbor: /data/d/final/macmillanCovers-6/9780174436256.jpg\n",
      "  Euclidean Distance: 13894.0751953125\n",
      "Comparison 5:\n",
      "  Neighbor: /data/d/final/macmillanCovers-6/9780230100220.jpg\n",
      "  Euclidean Distance: 12732.9423828125\n",
      "Comparison 6:\n",
      "  Neighbor: /data/d/final/macmillanCovers-6/9780230101388.jpg\n",
      "  Euclidean Distance: 13916.5615234375\n",
      "\n",
      "Query Image: /data/d/final/test/silent.jpg\n",
      "Best Match Found: /data/d/final/macmillanCovers-6/9781250301697.jpg\n"
     ]
    }
   ],
   "source": [
    "# Test Case: Exact Cover\n",
    "folder_path = '/data/d/final/macmillanCovers-6/'\n",
    "query_image_path = '/data/d/final/test/silent.jpg'\n",
    "\n",
    "voyager_index, image_paths = build_voyager_index_for_folder(folder_path)\n",
    "find_nearest_neighbor(query_image_path, voyager_index, image_paths)\n"
   ]
  },
  {
   "cell_type": "code",
   "execution_count": 5,
   "id": "65bb3f68",
   "metadata": {},
   "outputs": [
    {
     "name": "stdout",
     "output_type": "stream",
     "text": [
      "Comparison 1:\n",
      "  Neighbor: /data/d/final/macmillanCovers-6/9781250301697.jpg\n",
      "  Euclidean Distance: 12170.4814453125\n",
      "Comparison 2:\n",
      "  Neighbor: /data/d/final/macmillanCovers-6/9781250756138.jpg\n",
      "  Euclidean Distance: 15004.15625\n",
      "Comparison 3:\n",
      "  Neighbor: /data/d/final/macmillanCovers-6/9780230100992.jpg\n",
      "  Euclidean Distance: 12925.2080078125\n",
      "Comparison 4:\n",
      "  Neighbor: /data/d/final/macmillanCovers-6/9780174436256.jpg\n",
      "  Euclidean Distance: 14042.2646484375\n",
      "Comparison 5:\n",
      "  Neighbor: /data/d/final/macmillanCovers-6/9780230100220.jpg\n",
      "  Euclidean Distance: 12344.658203125\n",
      "Comparison 6:\n",
      "  Neighbor: /data/d/final/macmillanCovers-6/9780230101388.jpg\n",
      "  Euclidean Distance: 13830.2587890625\n",
      "\n",
      "Query Image: /data/d/final/test/1.png\n",
      "Best Match Found: /data/d/final/macmillanCovers-6/9781250301697.jpg\n"
     ]
    }
   ],
   "source": [
    "# Test Case: Cover with Background\n",
    "folder_path = '/data/d/final/macmillanCovers-6/'\n",
    "query_image_path = '/data/d/final/test/1.png'\n",
    "\n",
    "voyager_index, image_paths = build_voyager_index_for_folder(folder_path)\n",
    "find_nearest_neighbor(query_image_path, voyager_index, image_paths)\n"
   ]
  },
  {
   "cell_type": "markdown",
   "id": "87ab565a",
   "metadata": {},
   "source": [
    "<p>I tried comparing test cases of all 15 images with a blue background (1-15 in \"test\"). All ran with output giving \"9781250301697\" as the correct cover, which is the desired output.</p> \n",
    "<p>Here are select examples instead of going through outputs for all</p>"
   ]
  },
  {
   "cell_type": "code",
   "execution_count": 6,
   "id": "93a5c88d",
   "metadata": {},
   "outputs": [
    {
     "name": "stdout",
     "output_type": "stream",
     "text": [
      "Comparison 1:\n",
      "  Neighbor: /data/d/final/macmillanCovers-6/9781250301697.jpg\n",
      "  Euclidean Distance: 12229.4658203125\n",
      "Comparison 2:\n",
      "  Neighbor: /data/d/final/macmillanCovers-6/9781250756138.jpg\n",
      "  Euclidean Distance: 14817.3837890625\n",
      "Comparison 3:\n",
      "  Neighbor: /data/d/final/macmillanCovers-6/9780230100992.jpg\n",
      "  Euclidean Distance: 13091.39453125\n",
      "Comparison 4:\n",
      "  Neighbor: /data/d/final/macmillanCovers-6/9780174436256.jpg\n",
      "  Euclidean Distance: 13992.05859375\n",
      "Comparison 5:\n",
      "  Neighbor: /data/d/final/macmillanCovers-6/9780230100220.jpg\n",
      "  Euclidean Distance: 12530.3857421875\n",
      "Comparison 6:\n",
      "  Neighbor: /data/d/final/macmillanCovers-6/9780230101388.jpg\n",
      "  Euclidean Distance: 13983.400390625\n",
      "\n",
      "Query Image: /data/d/final/test/3.png\n",
      "Best Match Found: /data/d/final/macmillanCovers-6/9781250301697.jpg\n"
     ]
    }
   ],
   "source": [
    "# Test Case 3: Cover with Slant Clockwise\n",
    "folder_path = '/data/d/final/macmillanCovers-6/'\n",
    "query_image_path = '/data/d/final/test/3.png'\n",
    "\n",
    "voyager_index, image_paths = build_voyager_index_for_folder(folder_path)\n",
    "find_nearest_neighbor(query_image_path, voyager_index, image_paths)"
   ]
  },
  {
   "cell_type": "code",
   "execution_count": 7,
   "id": "46ccb926",
   "metadata": {},
   "outputs": [
    {
     "name": "stdout",
     "output_type": "stream",
     "text": [
      "Comparison 1:\n",
      "  Neighbor: /data/d/final/macmillanCovers-6/9781250301697.jpg\n",
      "  Euclidean Distance: 12190.08984375\n",
      "Comparison 2:\n",
      "  Neighbor: /data/d/final/macmillanCovers-6/9781250756138.jpg\n",
      "  Euclidean Distance: 14886.4365234375\n",
      "Comparison 3:\n",
      "  Neighbor: /data/d/final/macmillanCovers-6/9780230100992.jpg\n",
      "  Euclidean Distance: 12946.60546875\n",
      "Comparison 4:\n",
      "  Neighbor: /data/d/final/macmillanCovers-6/9780174436256.jpg\n",
      "  Euclidean Distance: 13826.4423828125\n",
      "Comparison 5:\n",
      "  Neighbor: /data/d/final/macmillanCovers-6/9780230100220.jpg\n",
      "  Euclidean Distance: 12605.6103515625\n",
      "Comparison 6:\n",
      "  Neighbor: /data/d/final/macmillanCovers-6/9780230101388.jpg\n",
      "  Euclidean Distance: 13885.2744140625\n",
      "\n",
      "Query Image: /data/d/final/test/6.png\n",
      "Best Match Found: /data/d/final/macmillanCovers-6/9781250301697.jpg\n"
     ]
    }
   ],
   "source": [
    "# Test Case 6: Cover with Slant Counter-clockwise and Hand\n",
    "folder_path = '/data/d/final/macmillanCovers-6/'\n",
    "query_image_path = '/data/d/final/test/6.png'\n",
    "\n",
    "voyager_index, image_paths = build_voyager_index_for_folder(folder_path)\n",
    "find_nearest_neighbor(query_image_path, voyager_index, image_paths)"
   ]
  },
  {
   "cell_type": "code",
   "execution_count": 8,
   "id": "415ad3c5",
   "metadata": {
    "scrolled": false
   },
   "outputs": [
    {
     "name": "stdout",
     "output_type": "stream",
     "text": [
      "Comparison 1:\n",
      "  Neighbor: /data/d/final/macmillanCovers-6/9781250301697.jpg\n",
      "  Euclidean Distance: 12210.943359375\n",
      "Comparison 2:\n",
      "  Neighbor: /data/d/final/macmillanCovers-6/9781250756138.jpg\n",
      "  Euclidean Distance: 14875.6201171875\n",
      "Comparison 3:\n",
      "  Neighbor: /data/d/final/macmillanCovers-6/9780230100992.jpg\n",
      "  Euclidean Distance: 12979.560546875\n",
      "Comparison 4:\n",
      "  Neighbor: /data/d/final/macmillanCovers-6/9780174436256.jpg\n",
      "  Euclidean Distance: 13944.0322265625\n",
      "Comparison 5:\n",
      "  Neighbor: /data/d/final/macmillanCovers-6/9780230100220.jpg\n",
      "  Euclidean Distance: 12559.3017578125\n",
      "Comparison 6:\n",
      "  Neighbor: /data/d/final/macmillanCovers-6/9780230101388.jpg\n",
      "  Euclidean Distance: 13805.4833984375\n",
      "\n",
      "Query Image: /data/d/final/test/9.png\n",
      "Best Match Found: /data/d/final/macmillanCovers-6/9781250301697.jpg\n"
     ]
    }
   ],
   "source": [
    "# Test Case 9: Cover Upside Down and Hand\n",
    "folder_path = '/data/d/final/macmillanCovers-6/'\n",
    "query_image_path = '/data/d/final/test/9.png'\n",
    "\n",
    "voyager_index, image_paths = build_voyager_index_for_folder(folder_path)\n",
    "find_nearest_neighbor(query_image_path, voyager_index, image_paths)"
   ]
  },
  {
   "cell_type": "code",
   "execution_count": 9,
   "id": "49d1b7d7",
   "metadata": {},
   "outputs": [
    {
     "name": "stdout",
     "output_type": "stream",
     "text": [
      "CPU times: user 3 µs, sys: 0 ns, total: 3 µs\n",
      "Wall time: 5.96 µs\n"
     ]
    }
   ],
   "source": [
    "%time"
   ]
  },
  {
   "cell_type": "markdown",
   "id": "20d880d1",
   "metadata": {},
   "source": [
    "# Model 1 Summary\n",
    "<p><b>6 images in folder</b></p>\n",
    "<p>The specific test cases include covers with backgrounds, slanted clockwise and counter-clockwise, upside-down, and with added elements. The system consistently outputs the correct cover ISBN (\"9781250301697\") for all test cases, indicating robustness to variations in image appearance.</p>\n",
    "\n",
    "# Successes\n",
    "Works 100% for exact image comparisons for any book cover as long as query image is in the library.\n",
    "\n",
    "# Complications\n",
    "- Realization that this model compares Euclidian distances in regions of space (instead of whole image)\n",
    "- Therefore when a larger subset of images are iterated through, it is prone to discrepency: the correct iamge is not returned\n",
    "- When building versions of models, dimension mismatch in build_voyager_index_for_folder is a common issue\n",
    "- Similarly query descriptors also not trimmed to the desired dimension before performing the nearest neighbor search. \n",
    "\n",
    "NOTE: The dimensionality of the query vector and the indexed vectors must match for the nearest neighbor search to work correctly. It's a requirement for similarity search algorithms.\n",
    "\n",
    "\n",
    "\n",
    "# Model 2: \n",
    "<p>Building Euclidian Distance image comparison system while comparing whole image with one another instead of a region (subset) of each image at a time. Also looking at a larger library of 47 images instead of just 6.</p>\n",
    "\n",
    "- Utilizes the Voyager library for similarity search based on HOG descriptors (Histogram of Oriented Gradients).\n",
    "- Voyager index is built using Euclidean space.\n"
   ]
  },
  {
   "cell_type": "code",
   "execution_count": 10,
   "id": "4e6b2655",
   "metadata": {
    "scrolled": true
   },
   "outputs": [],
   "source": [
    "from match_voy_hog import preprocess_image, build_voyager_index_for_folder, find_nearest_neighbor"
   ]
  },
  {
   "cell_type": "code",
   "execution_count": 11,
   "id": "91a9b210",
   "metadata": {
    "scrolled": true
   },
   "outputs": [
    {
     "name": "stdout",
     "output_type": "stream",
     "text": [
      "Comparison 1:\n",
      "  Neighbor: /data/d/final/macmillanCovers-47/silent.jpg\n",
      "  Euclidean Distance: 4.837956428527832\n",
      "Comparison 2:\n",
      "  Neighbor: /data/d/final/macmillanCovers-47/9780230115668.jpg\n",
      "  Euclidean Distance: 7.751180171966553\n",
      "Comparison 3:\n",
      "  Neighbor: /data/d/final/macmillanCovers-47/9780230002289.jpg\n",
      "  Euclidean Distance: 7.4563493728637695\n",
      "Comparison 4:\n",
      "  Neighbor: /data/d/final/macmillanCovers-47/9780230001756.jpg\n",
      "  Euclidean Distance: 7.90340518951416\n",
      "Comparison 5:\n",
      "  Neighbor: /data/d/final/macmillanCovers-47/9780230001626.jpg\n",
      "  Euclidean Distance: 7.813316345214844\n",
      "Comparison 6:\n",
      "  Neighbor: /data/d/final/macmillanCovers-47/9780230001800.jpg\n",
      "  Euclidean Distance: 9.497312545776367\n",
      "Comparison 7:\n",
      "  Neighbor: /data/d/final/macmillanCovers-47/9780230004603.jpg\n",
      "  Euclidean Distance: 8.269553184509277\n",
      "Comparison 8:\n",
      "  Neighbor: /data/d/final/macmillanCovers-47/9781250756138.jpg\n",
      "  Euclidean Distance: 8.192949295043945\n",
      "Comparison 9:\n",
      "  Neighbor: /data/d/final/macmillanCovers-47/9780230000315.jpg\n",
      "  Euclidean Distance: 8.350815773010254\n",
      "Comparison 10:\n",
      "  Neighbor: /data/d/final/macmillanCovers-47/9780230115651.jpg\n",
      "  Euclidean Distance: 8.221519470214844\n",
      "Comparison 11:\n",
      "  Neighbor: /data/d/final/macmillanCovers-47/9780230001787.jpg\n",
      "  Euclidean Distance: 7.080581188201904\n",
      "Comparison 12:\n",
      "  Neighbor: /data/d/final/macmillanCovers-47/9780230100992.jpg\n",
      "  Euclidean Distance: 6.419427394866943\n",
      "Comparison 13:\n",
      "  Neighbor: /data/d/final/macmillanCovers-47/9780230115637.jpg\n",
      "  Euclidean Distance: 8.270604133605957\n",
      "Comparison 14:\n",
      "  Neighbor: /data/d/final/macmillanCovers-47/9780230007796.jpg\n",
      "  Euclidean Distance: 7.787705898284912\n",
      "Comparison 15:\n",
      "  Neighbor: /data/d/final/macmillanCovers-47/9780230001442.jpg\n",
      "  Euclidean Distance: 9.196474075317383\n",
      "Comparison 16:\n",
      "  Neighbor: /data/d/final/macmillanCovers-47/9780230001480.jpg\n",
      "  Euclidean Distance: 8.432273864746094\n",
      "Comparison 17:\n",
      "  Neighbor: /data/d/final/macmillanCovers-47/9780230116467.jpg\n",
      "  Euclidean Distance: 7.9736151695251465\n",
      "Comparison 18:\n",
      "  Neighbor: /data/d/final/macmillanCovers-47/9780230116474.jpg\n",
      "  Euclidean Distance: 7.458962917327881\n",
      "Comparison 19:\n",
      "  Neighbor: /data/d/final/macmillanCovers-47/9780174436256.jpg\n",
      "  Euclidean Distance: 8.836636543273926\n",
      "Comparison 20:\n",
      "  Neighbor: /data/d/final/macmillanCovers-47/9780230006737.jpg\n",
      "  Euclidean Distance: 7.751387119293213\n",
      "Comparison 21:\n",
      "  Neighbor: /data/d/final/macmillanCovers-47/9780230000346.jpg\n",
      "  Euclidean Distance: 8.123387336730957\n",
      "Comparison 22:\n",
      "  Neighbor: /data/d/final/macmillanCovers-47/9780230116450.jpg\n",
      "  Euclidean Distance: 7.3170552253723145\n",
      "Comparison 23:\n",
      "  Neighbor: /data/d/final/macmillanCovers-47/9780230001886.jpg\n",
      "  Euclidean Distance: 8.53041934967041\n",
      "Comparison 24:\n",
      "  Neighbor: /data/d/final/macmillanCovers-47/9780230005174.jpg\n",
      "  Euclidean Distance: 8.42757511138916\n",
      "Comparison 25:\n",
      "  Neighbor: /data/d/final/macmillanCovers-47/9780230117570.jpg\n",
      "  Euclidean Distance: 7.648552417755127\n",
      "Comparison 26:\n",
      "  Neighbor: /data/d/final/macmillanCovers-47/9780230000384.jpg\n",
      "  Euclidean Distance: 9.111124992370605\n",
      "Comparison 27:\n",
      "  Neighbor: /data/d/final/macmillanCovers-47/9780230008137.jpg\n",
      "  Euclidean Distance: 8.764184951782227\n",
      "Comparison 28:\n",
      "  Neighbor: /data/d/final/macmillanCovers-47/9780230006324.jpg\n",
      "  Euclidean Distance: 6.969091415405273\n",
      "Comparison 29:\n",
      "  Neighbor: /data/d/final/macmillanCovers-47/9780230003507.jpg\n",
      "  Euclidean Distance: 7.416900157928467\n",
      "Comparison 30:\n",
      "  Neighbor: /data/d/final/macmillanCovers-47/9780230007611.jpg\n",
      "  Euclidean Distance: 9.147527694702148\n",
      "Comparison 31:\n",
      "  Neighbor: /data/d/final/macmillanCovers-47/9780230005402.jpg\n",
      "  Euclidean Distance: 9.348069190979004\n",
      "Comparison 32:\n",
      "  Neighbor: /data/d/final/macmillanCovers-47/9780230100220.jpg\n",
      "  Euclidean Distance: 8.522316932678223\n",
      "Comparison 33:\n",
      "  Neighbor: /data/d/final/macmillanCovers-47/9780230117952.jpg\n",
      "  Euclidean Distance: 7.658500671386719\n",
      "Comparison 34:\n",
      "  Neighbor: /data/d/final/macmillanCovers-47/9780230007772.jpg\n",
      "  Euclidean Distance: 7.669775485992432\n",
      "Comparison 35:\n",
      "  Neighbor: /data/d/final/macmillanCovers-47/9780230115927.jpg\n",
      "  Euclidean Distance: 7.106848239898682\n",
      "Comparison 36:\n",
      "  Neighbor: /data/d/final/macmillanCovers-47/9780230000124.jpg\n",
      "  Euclidean Distance: 9.027125358581543\n",
      "Comparison 37:\n",
      "  Neighbor: /data/d/final/macmillanCovers-47/9780230008236.jpg\n",
      "  Euclidean Distance: 7.54921817779541\n",
      "Comparison 38:\n",
      "  Neighbor: /data/d/final/macmillanCovers-47/9780230000285.jpg\n",
      "  Euclidean Distance: 7.547229290008545\n",
      "Comparison 39:\n",
      "  Neighbor: /data/d/final/macmillanCovers-47/9780230008168.jpg\n",
      "  Euclidean Distance: 9.031326293945312\n",
      "Comparison 40:\n",
      "  Neighbor: /data/d/final/macmillanCovers-47/9780230007703.jpg\n",
      "  Euclidean Distance: 8.384820938110352\n",
      "Comparison 41:\n",
      "  Neighbor: /data/d/final/macmillanCovers-47/9780230115712.jpg\n",
      "  Euclidean Distance: 7.062429904937744\n",
      "Comparison 42:\n",
      "  Neighbor: /data/d/final/macmillanCovers-47/9780230101388.jpg\n",
      "  Euclidean Distance: 7.297474384307861\n",
      "Comparison 43:\n",
      "  Neighbor: /data/d/final/macmillanCovers-47/9780230007505.jpg\n",
      "  Euclidean Distance: 7.919130802154541\n",
      "Comparison 44:\n",
      "  Neighbor: /data/d/final/macmillanCovers-47/9780230001558.jpg\n",
      "  Euclidean Distance: 7.553211212158203\n",
      "Comparison 45:\n",
      "  Neighbor: /data/d/final/macmillanCovers-47/9780230006751.jpg\n",
      "  Euclidean Distance: 8.09945011138916\n",
      "Comparison 46:\n",
      "  Neighbor: /data/d/final/macmillanCovers-47/9780230004634.jpg\n",
      "  Euclidean Distance: 7.873350143432617\n",
      "Comparison 47:\n",
      "  Neighbor: /data/d/final/macmillanCovers-47/9780230002456.jpg\n",
      "  Euclidean Distance: 7.491926670074463\n",
      "\n",
      "Query Image: /data/d/final/test/1.png\n",
      "Best Match Found: /data/d/final/macmillanCovers-47/silent.jpg\n"
     ]
    }
   ],
   "source": [
    "# Test Usage:\n",
    "    \n",
    "folder_path = '/data/d/final/macmillanCovers-47/'\n",
    "query_image_path = '/data/d/final/test/1.png'\n",
    "\n",
    "voyager_index, image_paths = build_voyager_index_for_folder(folder_path)\n",
    "find_nearest_neighbor(query_image_path, voyager_index, image_paths, threshold=1000)"
   ]
  },
  {
   "cell_type": "markdown",
   "id": "88e58cfa",
   "metadata": {},
   "source": [
    "<p> Returned correct output for 1.png, which is cover with bluish background of medium thickness. When background color is changed to dark brown (16.png), it also returns correct output.</p>"
   ]
  },
  {
   "cell_type": "code",
   "execution_count": 13,
   "id": "959ec5ff",
   "metadata": {},
   "outputs": [
    {
     "name": "stdout",
     "output_type": "stream",
     "text": [
      "CPU times: user 2 µs, sys: 1e+03 ns, total: 3 µs\n",
      "Wall time: 6.68 µs\n"
     ]
    }
   ],
   "source": [
    "%time"
   ]
  },
  {
   "cell_type": "markdown",
   "id": "d458d2c5",
   "metadata": {},
   "source": [
    "\n",
    "# Limitations: \n",
    "- Does not return correct output for many other test cases \n",
    "- Often returns \"9780230001787\" which is visually similar book with a darker border and lighter middle (the case for 3, 4, 5, 6)\n",
    "- Other times it returns completely visually dissimilar books.\n",
    "\n",
    "# Comparison\n",
    "- HOG descriptor is computed for the entire resized image.\n",
    "- Euclidean distance is then calculated between the query image's HOG descriptor and each reference image's HOG descriptor.\n",
    "\n",
    "<p>vs. Model 1</p>\n",
    "\n",
    "- ORB keypoints and descriptors are computed after grayscale conversion.\n",
    "- Euclidean distance is then calculated between the query image's flattened ORB descriptors and each reference image's flattened ORB descriptors.\n",
    "\n",
    "# Instead using Cosine Similarity \n",
    "# Model 3\n",
    "\n",
    "In the context of book covers with varying backgrounds or distortions, Euclidean distance can be influenced geometric transformations, leading to suboptimal matching. So in the case there are backgrounds or slants, using cosine similarity, focusing on the angle between feature vectors, is more robust to such variations. It emphasizes content-related similarities rather than absolute differences. \n",
    "\n",
    "\n",
    "Python script uses Voyager library, ORB, OpenCV to perform image similarity search (similar to Model 1). \n",
    "- Structural Similarity Index (SSI) from the scikit-image library. It prints comparisons, identifies the best match, and determines matches based on a customizable threshold\n",
    "\n"
   ]
  },
  {
   "cell_type": "code",
   "execution_count": 16,
   "id": "678a5b26",
   "metadata": {
    "scrolled": true
   },
   "outputs": [],
   "source": [
    "from orb_cosine import preprocess_image, build_voyager_index_for_folder, find_nearest_neighbor, compute_image_similarity"
   ]
  },
  {
   "cell_type": "code",
   "execution_count": 17,
   "id": "bc580b9c",
   "metadata": {},
   "outputs": [
    {
     "name": "stdout",
     "output_type": "stream",
     "text": [
      "Comparison 1:\n",
      "  Neighbor: /data/d/final/macmillanCovers-47/silent.jpg\n",
      "  Similarity: 1.0\n",
      "Comparison 2:\n",
      "  Neighbor: /data/d/final/macmillanCovers-47/9780230005402.jpg\n",
      "  Similarity: 0.3108166966544863\n",
      "Comparison 3:\n",
      "  Neighbor: /data/d/final/macmillanCovers-47/9780230008236.jpg\n",
      "  Similarity: 0.3899673672577516\n",
      "Comparison 4:\n",
      "  Neighbor: /data/d/final/macmillanCovers-47/9780230006324.jpg\n",
      "  Similarity: 0.37532673454079457\n",
      "Comparison 5:\n",
      "  Neighbor: /data/d/final/macmillanCovers-47/9780230008168.jpg\n",
      "  Similarity: 0.427497382098622\n",
      "Comparison 6:\n",
      "  Neighbor: /data/d/final/macmillanCovers-47/9780230003507.jpg\n",
      "  Similarity: 0.49364762627640796\n",
      "Comparison 7:\n",
      "  Neighbor: /data/d/final/macmillanCovers-47/9780230115637.jpg\n",
      "  Similarity: 0.10754036166466159\n",
      "Comparison 8:\n",
      "  Neighbor: /data/d/final/macmillanCovers-47/9780230007505.jpg\n",
      "  Similarity: 0.3805275007990319\n",
      "Comparison 9:\n",
      "  Neighbor: /data/d/final/macmillanCovers-47/9780230116467.jpg\n",
      "  Similarity: 0.5279921399998531\n",
      "Comparison 10:\n",
      "  Neighbor: /data/d/final/macmillanCovers-47/9780230000124.jpg\n",
      "  Similarity: 0.5130773053394226\n",
      "Comparison 11:\n",
      "  Neighbor: /data/d/final/macmillanCovers-47/9780230115668.jpg\n",
      "  Similarity: 0.48341888648835524\n",
      "Comparison 12:\n",
      "  Neighbor: /data/d/final/macmillanCovers-47/9780230001480.jpg\n",
      "  Similarity: 0.2875512072074277\n",
      "Comparison 13:\n",
      "  Neighbor: /data/d/final/macmillanCovers-47/9780230115927.jpg\n",
      "  Similarity: 0.3538129622472627\n",
      "Comparison 14:\n",
      "  Neighbor: /data/d/final/macmillanCovers-47/9780230115651.jpg\n",
      "  Similarity: 0.2971860543392294\n",
      "Comparison 15:\n",
      "  Neighbor: /data/d/final/macmillanCovers-47/9780230002456.jpg\n",
      "  Similarity: 0.3202369703077311\n",
      "Comparison 16:\n",
      "  Neighbor: /data/d/final/macmillanCovers-47/9780230004603.jpg\n",
      "  Similarity: 0.2584077828731576\n",
      "Comparison 17:\n",
      "  Neighbor: /data/d/final/macmillanCovers-47/9780230007796.jpg\n",
      "  Similarity: 0.46150303478567833\n",
      "Comparison 18:\n",
      "  Neighbor: /data/d/final/macmillanCovers-47/9780230001558.jpg\n",
      "  Similarity: 0.34691827201758063\n",
      "Comparison 19:\n",
      "  Neighbor: /data/d/final/macmillanCovers-47/9780230001800.jpg\n",
      "  Similarity: 0.4593730854511806\n",
      "Comparison 20:\n",
      "  Neighbor: /data/d/final/macmillanCovers-47/9780230001626.jpg\n",
      "  Similarity: 0.2725801572112329\n",
      "Comparison 21:\n",
      "  Neighbor: /data/d/final/macmillanCovers-47/9780230001756.jpg\n",
      "  Similarity: 0.31177234847192575\n",
      "Comparison 22:\n",
      "  Neighbor: /data/d/final/macmillanCovers-47/9780230117570.jpg\n",
      "  Similarity: 0.4632280266864507\n",
      "Comparison 23:\n",
      "  Neighbor: /data/d/final/macmillanCovers-47/9780230116474.jpg\n",
      "  Similarity: 0.49093889382318623\n",
      "Comparison 24:\n",
      "  Neighbor: /data/d/final/macmillanCovers-47/9780230006751.jpg\n",
      "  Similarity: 0.23521646428358714\n",
      "Comparison 25:\n",
      "  Neighbor: /data/d/final/macmillanCovers-47/9780230000346.jpg\n",
      "  Similarity: 0.4192815767444018\n",
      "Comparison 26:\n",
      "  Neighbor: /data/d/final/macmillanCovers-47/9780230006737.jpg\n",
      "  Similarity: 0.19760380051353374\n",
      "Comparison 27:\n",
      "  Neighbor: /data/d/final/macmillanCovers-47/9780230001787.jpg\n",
      "  Similarity: 0.18313883644915144\n",
      "Comparison 28:\n",
      "  Neighbor: /data/d/final/macmillanCovers-47/9780230101388.jpg\n",
      "  Similarity: 0.3073507493820342\n",
      "Comparison 29:\n",
      "  Neighbor: /data/d/final/macmillanCovers-47/9780230100992.jpg\n",
      "  Similarity: 0.30765279625093345\n",
      "Comparison 30:\n",
      "  Neighbor: /data/d/final/macmillanCovers-47/9780230116450.jpg\n",
      "  Similarity: 0.46507284232187707\n",
      "Comparison 31:\n",
      "  Neighbor: /data/d/final/macmillanCovers-47/9780230115712.jpg\n",
      "  Similarity: 0.4066786329055276\n",
      "Comparison 32:\n",
      "  Neighbor: /data/d/final/macmillanCovers-47/9780230100220.jpg\n",
      "  Similarity: 0.18033645876692375\n",
      "Comparison 33:\n",
      "  Neighbor: /data/d/final/macmillanCovers-47/9780230008137.jpg\n",
      "  Similarity: 0.4793283155783083\n",
      "Comparison 34:\n",
      "  Neighbor: /data/d/final/macmillanCovers-47/9780230117952.jpg\n",
      "  Similarity: 0.1577704974591638\n",
      "Comparison 35:\n",
      "  Neighbor: /data/d/final/macmillanCovers-47/9780230004634.jpg\n",
      "  Similarity: 0.2741005878064252\n",
      "Comparison 36:\n",
      "  Neighbor: /data/d/final/macmillanCovers-47/9780174436256.jpg\n",
      "  Similarity: 0.3825760157789163\n",
      "Comparison 37:\n",
      "  Neighbor: /data/d/final/macmillanCovers-47/9780230007703.jpg\n",
      "  Similarity: 0.37232952321197366\n",
      "Comparison 38:\n",
      "  Neighbor: /data/d/final/macmillanCovers-47/9780230000285.jpg\n",
      "  Similarity: 0.2259052628533767\n",
      "Comparison 39:\n",
      "  Neighbor: /data/d/final/macmillanCovers-47/9780230005174.jpg\n",
      "  Similarity: 0.21929402051827185\n",
      "Comparison 40:\n",
      "  Neighbor: /data/d/final/macmillanCovers-47/9780230001886.jpg\n",
      "  Similarity: 0.14836707055314335\n",
      "Comparison 41:\n",
      "  Neighbor: /data/d/final/macmillanCovers-47/9780230000315.jpg\n",
      "  Similarity: 0.4067172518110399\n",
      "Comparison 42:\n",
      "  Neighbor: /data/d/final/macmillanCovers-47/9780230001442.jpg\n",
      "  Similarity: 0.4092733544514365\n",
      "Comparison 43:\n",
      "  Neighbor: /data/d/final/macmillanCovers-47/9780230007611.jpg\n",
      "  Similarity: 0.31546402810039104\n",
      "Comparison 44:\n",
      "  Neighbor: /data/d/final/macmillanCovers-47/9780230007772.jpg\n",
      "  Similarity: 0.24950516764203623\n",
      "Comparison 45:\n",
      "  Neighbor: /data/d/final/macmillanCovers-47/9780230002289.jpg\n",
      "  Similarity: 0.36422864246491793\n",
      "Comparison 46:\n",
      "  Neighbor: /data/d/final/macmillanCovers-47/9780230000384.jpg\n",
      "  Similarity: 0.5175133114083521\n",
      "Comparison 47:\n",
      "  Neighbor: /data/d/final/macmillanCovers-47/9781250756138.jpg\n",
      "  Similarity: 0.018454282316245105\n",
      "\n",
      "Best Match:\n",
      "  Neighbor: /data/d/final/macmillanCovers-47/silent.jpg\n",
      "  Similarity: 1.0\n",
      "  Match found (above or equal to threshold)\n",
      "\n"
     ]
    }
   ],
   "source": [
    "folder_path = '/data/d/final/macmillanCovers-47/'\n",
    "query_image_path = '/data/d/final/test/silent.jpg'\n",
    "\n",
    "voyager_index, image_paths = build_voyager_index_for_folder(folder_path)\n",
    "find_nearest_neighbor(query_image_path, voyager_index, image_paths, threshold=0)\n"
   ]
  },
  {
   "cell_type": "markdown",
   "id": "4ed3f5a8",
   "metadata": {},
   "source": [
    "# Successes\n",
    "\n",
    "Works with perfect accuracy for exact match cover of The Silent Patient. When tested with print statements, it returns: \n",
    "\n",
    "Best Match:\n",
    "  Neighbor: /data/d/final/macmillanCovers-47/silent.jpg\n",
    "  Similarity: 1.0\n",
    "  Match found (above or equal to threshold)\n",
    "\n",
    "after going through all 47 comparisons such as:\n",
    "  Neighbor: /data/d/final/macmillanCovers-47/silent.jpg\n",
    "  Similarity: 1.0"
   ]
  }
 ],
 "metadata": {
  "kernelspec": {
   "display_name": "Python 3 (ipykernel)",
   "language": "python",
   "name": "python3"
  },
  "language_info": {
   "codemirror_mode": {
    "name": "ipython",
    "version": 3
   },
   "file_extension": ".py",
   "mimetype": "text/x-python",
   "name": "python",
   "nbconvert_exporter": "python",
   "pygments_lexer": "ipython3",
   "version": "3.8.13"
  }
 },
 "nbformat": 4,
 "nbformat_minor": 5
}
