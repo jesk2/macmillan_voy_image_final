{
 "cells": [
  {
   "cell_type": "markdown",
   "id": "e1d4f624",
   "metadata": {},
   "source": [
    "# Phavorite!\n",
    "\n",
    "\n",
    "\n"
   ]
  },
  {
   "cell_type": "markdown",
   "id": "5e8ef348",
   "metadata": {},
   "source": [
    "# Model 1: Image comparison system using ORB (Oriented FAST and Rotated BRIEF, OpenCV library and the Voyager library)\n",
    "- preprocess_image function reads and converts images to grayscale and extracts ORB keypoints and descriptors. \n",
    "- build_voyager_index_for_folder function processes a folder of images and builds a Voyager index using these descriptors. \n",
    "- find_nearest_neighbor function takes a query image, extracts descriptors, compares them with the indexed descriptors using Euclidean distance, and finds the nearest neighbor. \n",
    "\n",
    "<p>If the distance is below a certain threshold, it prints the best match along with the Euclidean distance and displays the query and matched images. </p>"
   ]
  },
  {
   "cell_type": "code",
   "execution_count": 1,
   "id": "33b956b1",
   "metadata": {},
   "outputs": [],
   "source": [
    "from exact_match_voy import preprocess_image"
   ]
  },
  {
   "cell_type": "code",
   "execution_count": 2,
   "id": "024868ec",
   "metadata": {},
   "outputs": [],
   "source": [
    "from exact_match_voy import build_voyager_index_for_folder"
   ]
  },
  {
   "cell_type": "code",
   "execution_count": 3,
   "id": "eb76b878",
   "metadata": {
    "scrolled": true
   },
   "outputs": [],
   "source": [
    "from exact_match_voy import find_nearest_neighbor"
   ]
  },
  {
   "cell_type": "markdown",
   "id": "8a2de1b0",
   "metadata": {},
   "source": [
    "# Test 1 Using 6 Images\n",
    "\n",
    "<p> Works with 100% accuracy on 6 images. Tested 15 different rotation, inversion, and blots. 5 images were pulled from the s3 AWS bucket mpd-biblio under dev/covers/original/ and 1 image of <i>The Silent Patient</i> with ISBN \"9781250301697\" was taken from the Macmillan Website.</p> "
   ]
  },
  {
   "cell_type": "code",
   "execution_count": 4,
   "id": "b02b017c",
   "metadata": {
    "scrolled": true
   },
   "outputs": [
    {
     "name": "stdout",
     "output_type": "stream",
     "text": [
      "Comparison 1:\n",
      "  Neighbor: /data/d/final/macmillanCovers-6/9781250301697.jpg\n",
      "  Euclidean Distance: 0.0\n",
      "Comparison 2:\n",
      "  Neighbor: /data/d/final/macmillanCovers-6/9781250756138.jpg\n",
      "  Euclidean Distance: 14545.0771484375\n",
      "Comparison 3:\n",
      "  Neighbor: /data/d/final/macmillanCovers-6/9780230100992.jpg\n",
      "  Euclidean Distance: 13007.119140625\n",
      "Comparison 4:\n",
      "  Neighbor: /data/d/final/macmillanCovers-6/9780174436256.jpg\n",
      "  Euclidean Distance: 13894.0751953125\n",
      "Comparison 5:\n",
      "  Neighbor: /data/d/final/macmillanCovers-6/9780230100220.jpg\n",
      "  Euclidean Distance: 12732.9423828125\n",
      "Comparison 6:\n",
      "  Neighbor: /data/d/final/macmillanCovers-6/9780230101388.jpg\n",
      "  Euclidean Distance: 13916.5615234375\n",
      "\n",
      "Query Image: /data/d/final/test/silent.jpg\n",
      "Best Match Found: /data/d/final/macmillanCovers-6/9781250301697.jpg\n"
     ]
    }
   ],
   "source": [
    "# Test Case: Exact Cover\n",
    "folder_path = '/data/d/final/macmillanCovers-6/'\n",
    "query_image_path = '/data/d/final/test/silent.jpg'\n",
    "\n",
    "voyager_index, image_paths = build_voyager_index_for_folder(folder_path)\n",
    "find_nearest_neighbor(query_image_path, voyager_index, image_paths)\n"
   ]
  },
  {
   "cell_type": "code",
   "execution_count": 5,
   "id": "65bb3f68",
   "metadata": {},
   "outputs": [
    {
     "name": "stdout",
     "output_type": "stream",
     "text": [
      "Comparison 1:\n",
      "  Neighbor: /data/d/final/macmillanCovers-6/9781250301697.jpg\n",
      "  Euclidean Distance: 12170.4814453125\n",
      "Comparison 2:\n",
      "  Neighbor: /data/d/final/macmillanCovers-6/9781250756138.jpg\n",
      "  Euclidean Distance: 15004.15625\n",
      "Comparison 3:\n",
      "  Neighbor: /data/d/final/macmillanCovers-6/9780230100992.jpg\n",
      "  Euclidean Distance: 12925.2080078125\n",
      "Comparison 4:\n",
      "  Neighbor: /data/d/final/macmillanCovers-6/9780174436256.jpg\n",
      "  Euclidean Distance: 14042.2646484375\n",
      "Comparison 5:\n",
      "  Neighbor: /data/d/final/macmillanCovers-6/9780230100220.jpg\n",
      "  Euclidean Distance: 12344.658203125\n",
      "Comparison 6:\n",
      "  Neighbor: /data/d/final/macmillanCovers-6/9780230101388.jpg\n",
      "  Euclidean Distance: 13830.2587890625\n",
      "\n",
      "Query Image: /data/d/final/test/1.png\n",
      "Best Match Found: /data/d/final/macmillanCovers-6/9781250301697.jpg\n"
     ]
    }
   ],
   "source": [
    "# Test Case: Cover with Background\n",
    "folder_path = '/data/d/final/macmillanCovers-6/'\n",
    "query_image_path = '/data/d/final/test/1.png'\n",
    "\n",
    "voyager_index, image_paths = build_voyager_index_for_folder(folder_path)\n",
    "find_nearest_neighbor(query_image_path, voyager_index, image_paths)\n"
   ]
  },
  {
   "cell_type": "markdown",
   "id": "87ab565a",
   "metadata": {},
   "source": [
    "<p>I tried comparing test cases of all 15 images with a blue background (1-15 in \"test\"). All ran with output giving \"9781250301697\" as the correct cover, which is the desired output.</p> \n",
    "<p>Here are select examples instead of going through outputs for all</p>"
   ]
  },
  {
   "cell_type": "code",
   "execution_count": 6,
   "id": "93a5c88d",
   "metadata": {},
   "outputs": [
    {
     "name": "stdout",
     "output_type": "stream",
     "text": [
      "Comparison 1:\n",
      "  Neighbor: /data/d/final/macmillanCovers-6/9781250301697.jpg\n",
      "  Euclidean Distance: 12229.4658203125\n",
      "Comparison 2:\n",
      "  Neighbor: /data/d/final/macmillanCovers-6/9781250756138.jpg\n",
      "  Euclidean Distance: 14817.3837890625\n",
      "Comparison 3:\n",
      "  Neighbor: /data/d/final/macmillanCovers-6/9780230100992.jpg\n",
      "  Euclidean Distance: 13091.39453125\n",
      "Comparison 4:\n",
      "  Neighbor: /data/d/final/macmillanCovers-6/9780174436256.jpg\n",
      "  Euclidean Distance: 13992.05859375\n",
      "Comparison 5:\n",
      "  Neighbor: /data/d/final/macmillanCovers-6/9780230100220.jpg\n",
      "  Euclidean Distance: 12530.3857421875\n",
      "Comparison 6:\n",
      "  Neighbor: /data/d/final/macmillanCovers-6/9780230101388.jpg\n",
      "  Euclidean Distance: 13983.400390625\n",
      "\n",
      "Query Image: /data/d/final/test/3.png\n",
      "Best Match Found: /data/d/final/macmillanCovers-6/9781250301697.jpg\n"
     ]
    }
   ],
   "source": [
    "# Test Case 3: Cover with Slant Clockwise\n",
    "folder_path = '/data/d/final/macmillanCovers-6/'\n",
    "query_image_path = '/data/d/final/test/3.png'\n",
    "\n",
    "voyager_index, image_paths = build_voyager_index_for_folder(folder_path)\n",
    "find_nearest_neighbor(query_image_path, voyager_index, image_paths)"
   ]
  },
  {
   "cell_type": "code",
   "execution_count": 7,
   "id": "46ccb926",
   "metadata": {},
   "outputs": [
    {
     "name": "stdout",
     "output_type": "stream",
     "text": [
      "Comparison 1:\n",
      "  Neighbor: /data/d/final/macmillanCovers-6/9781250301697.jpg\n",
      "  Euclidean Distance: 12190.08984375\n",
      "Comparison 2:\n",
      "  Neighbor: /data/d/final/macmillanCovers-6/9781250756138.jpg\n",
      "  Euclidean Distance: 14886.4365234375\n",
      "Comparison 3:\n",
      "  Neighbor: /data/d/final/macmillanCovers-6/9780230100992.jpg\n",
      "  Euclidean Distance: 12946.60546875\n",
      "Comparison 4:\n",
      "  Neighbor: /data/d/final/macmillanCovers-6/9780174436256.jpg\n",
      "  Euclidean Distance: 13826.4423828125\n",
      "Comparison 5:\n",
      "  Neighbor: /data/d/final/macmillanCovers-6/9780230100220.jpg\n",
      "  Euclidean Distance: 12605.6103515625\n",
      "Comparison 6:\n",
      "  Neighbor: /data/d/final/macmillanCovers-6/9780230101388.jpg\n",
      "  Euclidean Distance: 13885.2744140625\n",
      "\n",
      "Query Image: /data/d/final/test/6.png\n",
      "Best Match Found: /data/d/final/macmillanCovers-6/9781250301697.jpg\n"
     ]
    }
   ],
   "source": [
    "# Test Case 6: Cover with Slant Counter-clockwise and Hand\n",
    "folder_path = '/data/d/final/macmillanCovers-6/'\n",
    "query_image_path = '/data/d/final/test/6.png'\n",
    "\n",
    "voyager_index, image_paths = build_voyager_index_for_folder(folder_path)\n",
    "find_nearest_neighbor(query_image_path, voyager_index, image_paths)"
   ]
  },
  {
   "cell_type": "code",
   "execution_count": 8,
   "id": "415ad3c5",
   "metadata": {
    "scrolled": false
   },
   "outputs": [
    {
     "name": "stdout",
     "output_type": "stream",
     "text": [
      "Comparison 1:\n",
      "  Neighbor: /data/d/final/macmillanCovers-6/9781250301697.jpg\n",
      "  Euclidean Distance: 12210.943359375\n",
      "Comparison 2:\n",
      "  Neighbor: /data/d/final/macmillanCovers-6/9781250756138.jpg\n",
      "  Euclidean Distance: 14875.6201171875\n",
      "Comparison 3:\n",
      "  Neighbor: /data/d/final/macmillanCovers-6/9780230100992.jpg\n",
      "  Euclidean Distance: 12979.560546875\n",
      "Comparison 4:\n",
      "  Neighbor: /data/d/final/macmillanCovers-6/9780174436256.jpg\n",
      "  Euclidean Distance: 13944.0322265625\n",
      "Comparison 5:\n",
      "  Neighbor: /data/d/final/macmillanCovers-6/9780230100220.jpg\n",
      "  Euclidean Distance: 12559.3017578125\n",
      "Comparison 6:\n",
      "  Neighbor: /data/d/final/macmillanCovers-6/9780230101388.jpg\n",
      "  Euclidean Distance: 13805.4833984375\n",
      "\n",
      "Query Image: /data/d/final/test/9.png\n",
      "Best Match Found: /data/d/final/macmillanCovers-6/9781250301697.jpg\n"
     ]
    }
   ],
   "source": [
    "# Test Case 9: Cover Upside Down and Hand\n",
    "folder_path = '/data/d/final/macmillanCovers-6/'\n",
    "query_image_path = '/data/d/final/test/9.png'\n",
    "\n",
    "voyager_index, image_paths = build_voyager_index_for_folder(folder_path)\n",
    "find_nearest_neighbor(query_image_path, voyager_index, image_paths)"
   ]
  },
  {
   "cell_type": "code",
   "execution_count": 9,
   "id": "49d1b7d7",
   "metadata": {
    "scrolled": true
   },
   "outputs": [
    {
     "name": "stdout",
     "output_type": "stream",
     "text": [
      "CPU times: user 3 µs, sys: 1e+03 ns, total: 4 µs\n",
      "Wall time: 6.68 µs\n"
     ]
    }
   ],
   "source": [
    "%time"
   ]
  },
  {
   "cell_type": "markdown",
   "id": "20d880d1",
   "metadata": {},
   "source": [
    "# Model 1 Summary\n",
    "<p><b>6 images in folder</b></p>\n",
    "<p>The specific test cases include covers with backgrounds, slanted clockwise and counter-clockwise, upside-down, and with added elements. The system consistently outputs the correct cover ISBN (\"9781250301697\") for all test cases, indicating robustness to variations in image appearance.</p>\n",
    "\n",
    "# Successes\n",
    "Works 100% for exact image comparisons for any book cover as long as query image is in the library.\n",
    "\n",
    "# Complications\n",
    "- Realization that this model compares Euclidian distances in regions of space (instead of whole image)\n",
    "- Therefore when a larger subset of images are iterated through, it is prone to discrepency: the correct iamge is not returned\n",
    "- When building versions of models, dimension mismatch in build_voyager_index_for_folder is a common issue\n",
    "- Similarly query descriptors also not trimmed to the desired dimension before performing the nearest neighbor search. \n",
    "\n",
    "NOTE: The dimensionality of the query vector and the indexed vectors must match for the nearest neighbor search to work correctly. It's a requirement for similarity search algorithms.\n",
    "\n",
    "\n",
    "\n",
    "# Model 2: \n",
    "<p>Building Euclidian Distance image comparison system while comparing whole image with one another instead of a region (subset) of each image at a time. Also looking at a larger library of 47 images instead of just 6.</p>\n",
    "\n",
    "- Utilizes the Voyager library for similarity search based on HOG descriptors (Histogram of Oriented Gradients).\n",
    "- Voyager index is built using Euclidean space.\n"
   ]
  },
  {
   "cell_type": "code",
   "execution_count": 10,
   "id": "4e6b2655",
   "metadata": {
    "scrolled": true
   },
   "outputs": [],
   "source": [
    "from match_voy_hog import preprocess_image, build_voyager_index_for_folder, find_nearest_neighbor"
   ]
  },
  {
   "cell_type": "code",
   "execution_count": 11,
   "id": "91a9b210",
   "metadata": {
    "scrolled": false
   },
   "outputs": [
    {
     "name": "stdout",
     "output_type": "stream",
     "text": [
      "Comparison 1:\n",
      "  Neighbor: /data/d/final/macmillanCovers-47/silent.jpg\n",
      "  Euclidean Distance: 4.837956428527832\n",
      "Comparison 2:\n",
      "  Neighbor: /data/d/final/macmillanCovers-47/9780230115668.jpg\n",
      "  Euclidean Distance: 7.751180171966553\n",
      "Comparison 3:\n",
      "  Neighbor: /data/d/final/macmillanCovers-47/9780230002289.jpg\n",
      "  Euclidean Distance: 7.4563493728637695\n",
      "Comparison 4:\n",
      "  Neighbor: /data/d/final/macmillanCovers-47/9780230001756.jpg\n",
      "  Euclidean Distance: 7.90340518951416\n",
      "Comparison 5:\n",
      "  Neighbor: /data/d/final/macmillanCovers-47/9780230001626.jpg\n",
      "  Euclidean Distance: 7.813316345214844\n",
      "Comparison 6:\n",
      "  Neighbor: /data/d/final/macmillanCovers-47/9780230001800.jpg\n",
      "  Euclidean Distance: 9.497312545776367\n",
      "Comparison 7:\n",
      "  Neighbor: /data/d/final/macmillanCovers-47/9780230004603.jpg\n",
      "  Euclidean Distance: 8.269553184509277\n",
      "Comparison 8:\n",
      "  Neighbor: /data/d/final/macmillanCovers-47/9781250756138.jpg\n",
      "  Euclidean Distance: 8.192949295043945\n",
      "Comparison 9:\n",
      "  Neighbor: /data/d/final/macmillanCovers-47/9780230000315.jpg\n",
      "  Euclidean Distance: 8.350815773010254\n",
      "Comparison 10:\n",
      "  Neighbor: /data/d/final/macmillanCovers-47/9780230115651.jpg\n",
      "  Euclidean Distance: 8.221519470214844\n",
      "Comparison 11:\n",
      "  Neighbor: /data/d/final/macmillanCovers-47/9780230001787.jpg\n",
      "  Euclidean Distance: 7.080581188201904\n",
      "Comparison 12:\n",
      "  Neighbor: /data/d/final/macmillanCovers-47/9780230100992.jpg\n",
      "  Euclidean Distance: 6.419427394866943\n",
      "Comparison 13:\n",
      "  Neighbor: /data/d/final/macmillanCovers-47/9780230115637.jpg\n",
      "  Euclidean Distance: 8.270604133605957\n",
      "Comparison 14:\n",
      "  Neighbor: /data/d/final/macmillanCovers-47/9780230007796.jpg\n",
      "  Euclidean Distance: 7.787705898284912\n",
      "Comparison 15:\n",
      "  Neighbor: /data/d/final/macmillanCovers-47/9780230001442.jpg\n",
      "  Euclidean Distance: 9.196474075317383\n",
      "Comparison 16:\n",
      "  Neighbor: /data/d/final/macmillanCovers-47/9780230001480.jpg\n",
      "  Euclidean Distance: 8.432273864746094\n",
      "Comparison 17:\n",
      "  Neighbor: /data/d/final/macmillanCovers-47/9780230116467.jpg\n",
      "  Euclidean Distance: 7.9736151695251465\n",
      "Comparison 18:\n",
      "  Neighbor: /data/d/final/macmillanCovers-47/9780230116474.jpg\n",
      "  Euclidean Distance: 7.458962917327881\n",
      "Comparison 19:\n",
      "  Neighbor: /data/d/final/macmillanCovers-47/9780174436256.jpg\n",
      "  Euclidean Distance: 8.836636543273926\n",
      "Comparison 20:\n",
      "  Neighbor: /data/d/final/macmillanCovers-47/9780230006737.jpg\n",
      "  Euclidean Distance: 7.751387119293213\n",
      "Comparison 21:\n",
      "  Neighbor: /data/d/final/macmillanCovers-47/9780230000346.jpg\n",
      "  Euclidean Distance: 8.123387336730957\n",
      "Comparison 22:\n",
      "  Neighbor: /data/d/final/macmillanCovers-47/9780230116450.jpg\n",
      "  Euclidean Distance: 7.3170552253723145\n",
      "Comparison 23:\n",
      "  Neighbor: /data/d/final/macmillanCovers-47/9780230001886.jpg\n",
      "  Euclidean Distance: 8.53041934967041\n",
      "Comparison 24:\n",
      "  Neighbor: /data/d/final/macmillanCovers-47/9780230005174.jpg\n",
      "  Euclidean Distance: 8.42757511138916\n",
      "Comparison 25:\n",
      "  Neighbor: /data/d/final/macmillanCovers-47/9780230117570.jpg\n",
      "  Euclidean Distance: 7.648552417755127\n",
      "Comparison 26:\n",
      "  Neighbor: /data/d/final/macmillanCovers-47/9780230000384.jpg\n",
      "  Euclidean Distance: 9.111124992370605\n",
      "Comparison 27:\n",
      "  Neighbor: /data/d/final/macmillanCovers-47/9780230008137.jpg\n",
      "  Euclidean Distance: 8.764184951782227\n",
      "Comparison 28:\n",
      "  Neighbor: /data/d/final/macmillanCovers-47/9780230006324.jpg\n",
      "  Euclidean Distance: 6.969091415405273\n",
      "Comparison 29:\n",
      "  Neighbor: /data/d/final/macmillanCovers-47/9780230003507.jpg\n",
      "  Euclidean Distance: 7.416900157928467\n",
      "Comparison 30:\n",
      "  Neighbor: /data/d/final/macmillanCovers-47/9780230007611.jpg\n",
      "  Euclidean Distance: 9.147527694702148\n",
      "Comparison 31:\n",
      "  Neighbor: /data/d/final/macmillanCovers-47/9780230005402.jpg\n",
      "  Euclidean Distance: 9.348069190979004\n",
      "Comparison 32:\n",
      "  Neighbor: /data/d/final/macmillanCovers-47/9780230100220.jpg\n",
      "  Euclidean Distance: 8.522316932678223\n",
      "Comparison 33:\n",
      "  Neighbor: /data/d/final/macmillanCovers-47/9780230117952.jpg\n",
      "  Euclidean Distance: 7.658500671386719\n",
      "Comparison 34:\n",
      "  Neighbor: /data/d/final/macmillanCovers-47/9780230007772.jpg\n",
      "  Euclidean Distance: 7.669775485992432\n",
      "Comparison 35:\n",
      "  Neighbor: /data/d/final/macmillanCovers-47/9780230115927.jpg\n",
      "  Euclidean Distance: 7.106848239898682\n",
      "Comparison 36:\n",
      "  Neighbor: /data/d/final/macmillanCovers-47/9780230000124.jpg\n",
      "  Euclidean Distance: 9.027125358581543\n",
      "Comparison 37:\n",
      "  Neighbor: /data/d/final/macmillanCovers-47/9780230008236.jpg\n",
      "  Euclidean Distance: 7.54921817779541\n",
      "Comparison 38:\n",
      "  Neighbor: /data/d/final/macmillanCovers-47/9780230000285.jpg\n",
      "  Euclidean Distance: 7.547229290008545\n",
      "Comparison 39:\n",
      "  Neighbor: /data/d/final/macmillanCovers-47/9780230008168.jpg\n",
      "  Euclidean Distance: 9.031326293945312\n",
      "Comparison 40:\n",
      "  Neighbor: /data/d/final/macmillanCovers-47/9780230007703.jpg\n",
      "  Euclidean Distance: 8.384820938110352\n",
      "Comparison 41:\n",
      "  Neighbor: /data/d/final/macmillanCovers-47/9780230115712.jpg\n",
      "  Euclidean Distance: 7.062429904937744\n",
      "Comparison 42:\n",
      "  Neighbor: /data/d/final/macmillanCovers-47/9780230101388.jpg\n",
      "  Euclidean Distance: 7.297474384307861\n",
      "Comparison 43:\n",
      "  Neighbor: /data/d/final/macmillanCovers-47/9780230007505.jpg\n",
      "  Euclidean Distance: 7.919130802154541\n",
      "Comparison 44:\n",
      "  Neighbor: /data/d/final/macmillanCovers-47/9780230001558.jpg\n",
      "  Euclidean Distance: 7.553211212158203\n",
      "Comparison 45:\n",
      "  Neighbor: /data/d/final/macmillanCovers-47/9780230006751.jpg\n",
      "  Euclidean Distance: 8.09945011138916\n",
      "Comparison 46:\n",
      "  Neighbor: /data/d/final/macmillanCovers-47/9780230004634.jpg\n",
      "  Euclidean Distance: 7.873350143432617\n",
      "Comparison 47:\n",
      "  Neighbor: /data/d/final/macmillanCovers-47/9780230002456.jpg\n",
      "  Euclidean Distance: 7.491926670074463\n",
      "\n",
      "Query Image: /data/d/final/test/1.png\n",
      "Best Match Found: /data/d/final/macmillanCovers-47/silent.jpg\n"
     ]
    }
   ],
   "source": [
    "# Test Usage:\n",
    "    \n",
    "folder_path = '/data/d/final/macmillanCovers-47/'\n",
    "query_image_path = '/data/d/final/test/1.png'\n",
    "\n",
    "voyager_index, image_paths = build_voyager_index_for_folder(folder_path)\n",
    "find_nearest_neighbor(query_image_path, voyager_index, image_paths, threshold=1000)"
   ]
  },
  {
   "cell_type": "markdown",
   "id": "6a864870",
   "metadata": {},
   "source": [
    "<p> Returned correct output for 1.png, which is cover with bluish background of medium thickness. When background color is changed to dark brown (16.png), it also returns correct output.</p>"
   ]
  },
  {
   "cell_type": "code",
   "execution_count": 12,
   "id": "70ed30cf",
   "metadata": {},
   "outputs": [
    {
     "name": "stdout",
     "output_type": "stream",
     "text": [
      "CPU times: user 3 µs, sys: 1 µs, total: 4 µs\n",
      "Wall time: 7.39 µs\n"
     ]
    }
   ],
   "source": [
    "%time"
   ]
  },
  {
   "cell_type": "markdown",
   "id": "31773320",
   "metadata": {},
   "source": [
    "\n",
    "# Limitations: \n",
    "- Does not return correct output for many other test cases \n",
    "- Often returns \"9780230001787\" which is visually similar book with a darker border and lighter middle (the case for 3, 4, 5, 6)\n",
    "- Other times it returns completely visually dissimilar books.\n",
    "\n",
    "# Comparison\n",
    "- HOG descriptor is computed for the entire resized image.\n",
    "- Euclidean distance is then calculated between the query image's HOG descriptor and each reference image's HOG descriptor.\n",
    "\n",
    "<p>vs. Model 1</p>\n",
    "\n",
    "- ORB keypoints and descriptors are computed after grayscale conversion.\n",
    "- Euclidean distance is then calculated between the query image's flattened ORB descriptors and each reference image's flattened ORB descriptors.\n",
    "\n",
    "# Model 3: ORB and Voyager to calculate Cosine Similarity\n",
    "\n",
    "In the context of book covers with varying backgrounds or distortions, Euclidean distance can be influenced geometric transformations, leading to suboptimal matching. So in the case there are backgrounds or slants, using cosine similarity, focusing on the angle between feature vectors, is more robust to such variations. It emphasizes content-related similarities rather than absolute differences. \n",
    "\n",
    "\n",
    "Python script uses Voyager library, ORB, OpenCV to perform image similarity search (similar to Model 1). \n",
    "- Structural Similarity Index (SSI) from the scikit-image library. It prints comparisons, identifies the best match, and determines matches based on a customizable threshold\n",
    "\n"
   ]
  },
  {
   "cell_type": "code",
   "execution_count": 13,
   "id": "44043379",
   "metadata": {
    "scrolled": true
   },
   "outputs": [],
   "source": [
    "from orb_cosine import preprocess_image, build_voyager_index_for_folder, find_nearest_neighbor, compute_image_similarity"
   ]
  },
  {
   "cell_type": "code",
   "execution_count": 14,
   "id": "793c93c3",
   "metadata": {
    "scrolled": true
   },
   "outputs": [
    {
     "name": "stdout",
     "output_type": "stream",
     "text": [
      "\n",
      "Best Match:\n",
      "  Neighbor: /data/d/final/macmillanCovers-47/silent.jpg\n",
      "  Similarity: 1.0\n",
      "  Match found (above or equal to threshold)\n",
      "\n",
      "CPU times: user 3 µs, sys: 1e+03 ns, total: 4 µs\n",
      "Wall time: 7.63 µs\n"
     ]
    }
   ],
   "source": [
    "folder_path = '/data/d/final/macmillanCovers-47/'\n",
    "query_image_path = '/data/d/final/test/silent.jpg'\n",
    "\n",
    "voyager_index, image_paths = build_voyager_index_for_folder(folder_path)\n",
    "find_nearest_neighbor(query_image_path, voyager_index, image_paths, threshold=0)\n",
    "\n",
    "%time"
   ]
  },
  {
   "cell_type": "markdown",
   "id": "f4dc01b1",
   "metadata": {},
   "source": [
    "# Successes\n",
    "\n",
    "Works with perfect accuracy for exact match cover of <i>The Silent Patient</i>. When tested with print statements, it returns: \n",
    "\n",
    "Best Match:\n",
    "  Neighbor: /data/d/final/macmillanCovers-47/silent.jpg\n",
    "  Similarity: 1.0\n",
    "  Match found (above or equal to threshold)\n",
    "\n",
    "after going through all 47 comparisons."
   ]
  },
  {
   "cell_type": "markdown",
   "id": "bcb4d71e",
   "metadata": {},
   "source": [
    "# Limitations \n",
    "\n",
    "- When tested on covers with a background or slant, the accuracy of returning the correct cover output decreases drastically. \n",
    "- When printing out cosine similarity values, Model 3 takes a significantly longer time to iterate through and compute all cosine similarity values in comparison to Model 1 which calculates the Euclidian distance.\n",
    "- Tried but could not pull down a larger number of Macmillan covers from aws s3 mpd-biblio. Jupyter notebook for accessing aws s3 buckets is included in the /final/ folder. \n"
   ]
  },
  {
   "cell_type": "markdown",
   "id": "d02c89b9",
   "metadata": {},
   "source": [
    "# OVERALL  \n",
    "\n",
    "- For exact matches (same cover), both Euclidian distance and Cosine similarity are sound metrics which give accurate matches to its original cover. \n",
    "- With distortions such as slant rotations or backgrounds, which are often inevitable when the user takes a picture of a book, both models can be prone to error, especially over a nontrivial number of Macmillan covers. Perhaps this suggests that more precise image rendering and \"cleaning up\" must be done before running nearest-neighbor searches and comparisons against existing covers.\n",
    "\n",
    "\n",
    "Researching and experimenting \"Phavorite\" is a subset of a larger in-progress Macmillan project, FOLIO. Thank you to Rob Guttman and Chris Leibold for being the best mentors and supervisors; it is an honor to be MIT's first micro-intern at Macmillan.\n"
   ]
  }
 ],
 "metadata": {
  "kernelspec": {
   "display_name": "Python 3 (ipykernel)",
   "language": "python",
   "name": "python3"
  },
  "language_info": {
   "codemirror_mode": {
    "name": "ipython",
    "version": 3
   },
   "file_extension": ".py",
   "mimetype": "text/x-python",
   "name": "python",
   "nbconvert_exporter": "python",
   "pygments_lexer": "ipython3",
   "version": "3.8.13"
  }
 },
 "nbformat": 4,
 "nbformat_minor": 5
}
